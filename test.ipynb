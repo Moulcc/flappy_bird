{
 "cells": [
  {
   "cell_type": "code",
   "execution_count": 10,
   "metadata": {
    "collapsed": true,
    "pycharm": {
     "name": "#%%\n"
    }
   },
   "outputs": [
    {
     "name": "stdout",
     "output_type": "stream",
     "text": [
      "['./images/bird_wing_up.png', './images/background.png', './images/bird_wing_down.png', './images/ground.png', './images/pipe.png', './images/pipe_body.png', './images/pipe_end.png']\n",
      "{'bird_wing_up': <Surface(32x32x32 SW)>, 'background': <Surface(284x512x32 SW)>, 'bird_wing_down': <Surface(32x32x32 SW)>, 'ground': <Surface(1439x278x32 SW)>, 'pipe': <Surface(200x376x32 SW)>, 'pipe_body': <Surface(80x32x32 SW)>, 'pipe_end': <Surface(80x32x32 SW)>}\n"
     ]
    }
   ],
   "source": [
    "import os\n",
    "import glob\n",
    "import pygame\n",
    "\n",
    "pygame.init()\n",
    "display_surface = pygame.display.set_mode((600, 400))\n",
    "pygame.display.set_caption('Pygame Flappy Bird')\n",
    "\n",
    "images = {}\n",
    "\n",
    "paths = glob.glob(os.path.join('./images', '*.png'))\n",
    "print(paths)\n",
    "for path in paths:\n",
    "    img = pygame.image.load(path).convert()\n",
    "    img_name = os.path.splitext(os.path.basename(path))[0]\n",
    "    images.update({img_name: img})\n",
    "\n",
    "print(images)\n",
    "\n",
    "#for path in paths:\n",
    "#    img = pygame.image.load(path)\n",
    "#    img.convert()\n",
    "\n",
    "#img = pygame.image.load(paths)\n",
    "#img.convert()\n",
    "\n",
    "#print(paths)"
   ]
  },
  {
   "cell_type": "code",
   "execution_count": 7,
   "outputs": [
    {
     "data": {
      "text/plain": "'bird_wing_up'"
     },
     "execution_count": 7,
     "metadata": {},
     "output_type": "execute_result"
    }
   ],
   "source": [
    "\n",
    "s = './images/bird_wing_up.png'\n",
    "os.path.splitext(os.path.basename(s))[0]"
   ],
   "metadata": {
    "collapsed": false,
    "pycharm": {
     "name": "#%%\n"
    }
   }
  }
 ],
 "metadata": {
  "kernelspec": {
   "display_name": "Python 3",
   "language": "python",
   "name": "python3"
  },
  "language_info": {
   "codemirror_mode": {
    "name": "ipython",
    "version": 2
   },
   "file_extension": ".py",
   "mimetype": "text/x-python",
   "name": "python",
   "nbconvert_exporter": "python",
   "pygments_lexer": "ipython2",
   "version": "2.7.6"
  }
 },
 "nbformat": 4,
 "nbformat_minor": 0
}